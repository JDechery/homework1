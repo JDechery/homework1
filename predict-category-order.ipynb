{
 "cells": [
  {
   "cell_type": "markdown",
   "metadata": {},
   "source": [
    "# Objective\n",
    "### Produce a multi-class classification supervised learning model to predict product category (prodcat1) a customer is likely to order.\n",
    "\n",
    "## Notes\n",
    "### 1. Without an end-product or business goal, I will make assumptions as necessary to guide model design and evaluation.\n",
    "\n",
    "### 2. Predicting which category \"a customer is likely to order\" could be framed as a supervised learning task in two most evident ways.\n",
    "    - Predict the category of a customer's next purchase (for generating web recommendations, for example)\n",
    "    - Predict each customers' overall propensity toward different categories (for targeted marketing campaigns or personalized category widgets, for example)\n",
    "#### I have taken the first approach, as the second would be difficult to evaluate without online experiments or large volumes of historical customer orders\n",
    "\n",
    "### 3. The following notebook documents an MVP using the provided data, ending with a discussion on results, limitations, and potential next steps"
   ]
  },
  {
   "cell_type": "code",
   "execution_count": 1,
   "metadata": {},
   "outputs": [],
   "source": [
    "import pandas as pd\n",
    "import numpy as np\n",
    "import matplotlib.pyplot as plt\n",
    "from scipy import sparse, stats\n",
    "\n",
    "from lightfm import LightFM, cross_validation, evaluation\n",
    "from sklearn.model_selection import RandomizedSearchCV\n",
    "from sklearn.ensemble import RandomForestClassifier\n",
    "from sklearn.metrics import f1_score, confusion_matrix"
   ]
  },
  {
   "cell_type": "code",
   "execution_count": 2,
   "metadata": {},
   "outputs": [],
   "source": [
    "# python dependencies for reproduction\n",
    "!pip install scikit-learn pandas lightfm"
   ]
  },
  {
   "cell_type": "markdown",
   "metadata": {},
   "source": [
    "#    1. Exploration and understanding of the data sets"
   ]
  },
  {
   "cell_type": "code",
   "execution_count": 3,
   "metadata": {},
   "outputs": [],
   "source": [
    "# load and format\n",
    "orders = pd.read_csv('homework1/order.csv')\n",
    "sessions = pd.read_csv('homework1/online.csv')\n",
    "\n",
    "orders['orderdate'] = pd.to_datetime(orders['orderdate'])\n",
    "orders = orders.set_index('orderdate').sort_index()\n",
    "sessions['dt'] = pd.to_datetime(sessions['dt'])"
   ]
  },
  {
   "cell_type": "markdown",
   "metadata": {},
   "source": [
    "### Order table EDA "
   ]
  },
  {
   "cell_type": "code",
   "execution_count": 4,
   "metadata": {},
   "outputs": [
    {
     "name": "stdout",
     "output_type": "stream",
     "text": [
      "(263278, 5)\n"
     ]
    },
    {
     "data": {
      "text/html": [
       "<div>\n",
       "<style scoped>\n",
       "    .dataframe tbody tr th:only-of-type {\n",
       "        vertical-align: middle;\n",
       "    }\n",
       "\n",
       "    .dataframe tbody tr th {\n",
       "        vertical-align: top;\n",
       "    }\n",
       "\n",
       "    .dataframe thead th {\n",
       "        text-align: right;\n",
       "    }\n",
       "</style>\n",
       "<table border=\"1\" class=\"dataframe\">\n",
       "  <thead>\n",
       "    <tr style=\"text-align: right;\">\n",
       "      <th></th>\n",
       "      <th>custno</th>\n",
       "      <th>ordno</th>\n",
       "      <th>prodcat2</th>\n",
       "      <th>prodcat1</th>\n",
       "      <th>revenue</th>\n",
       "    </tr>\n",
       "    <tr>\n",
       "      <th>orderdate</th>\n",
       "      <th></th>\n",
       "      <th></th>\n",
       "      <th></th>\n",
       "      <th></th>\n",
       "      <th></th>\n",
       "    </tr>\n",
       "  </thead>\n",
       "  <tbody>\n",
       "    <tr>\n",
       "      <th>2016-01-01 05:05:14</th>\n",
       "      <td>67913</td>\n",
       "      <td>143380</td>\n",
       "      <td>38.0</td>\n",
       "      <td>5</td>\n",
       "      <td>139.77</td>\n",
       "    </tr>\n",
       "    <tr>\n",
       "      <th>2016-01-01 06:34:56</th>\n",
       "      <td>10880</td>\n",
       "      <td>15272</td>\n",
       "      <td>4.0</td>\n",
       "      <td>2</td>\n",
       "      <td>147.51</td>\n",
       "    </tr>\n",
       "    <tr>\n",
       "      <th>2016-01-01 06:34:56</th>\n",
       "      <td>10880</td>\n",
       "      <td>15272</td>\n",
       "      <td>77.0</td>\n",
       "      <td>3</td>\n",
       "      <td>27.70</td>\n",
       "    </tr>\n",
       "    <tr>\n",
       "      <th>2016-01-01 06:34:56</th>\n",
       "      <td>10880</td>\n",
       "      <td>15272</td>\n",
       "      <td>39.0</td>\n",
       "      <td>5</td>\n",
       "      <td>69.25</td>\n",
       "    </tr>\n",
       "    <tr>\n",
       "      <th>2016-01-01 06:34:56</th>\n",
       "      <td>10880</td>\n",
       "      <td>15272</td>\n",
       "      <td>3.0</td>\n",
       "      <td>2</td>\n",
       "      <td>52.27</td>\n",
       "    </tr>\n",
       "  </tbody>\n",
       "</table>\n",
       "</div>"
      ],
      "text/plain": [
       "                     custno   ordno  prodcat2  prodcat1  revenue\n",
       "orderdate                                                       \n",
       "2016-01-01 05:05:14   67913  143380      38.0         5   139.77\n",
       "2016-01-01 06:34:56   10880   15272       4.0         2   147.51\n",
       "2016-01-01 06:34:56   10880   15272      77.0         3    27.70\n",
       "2016-01-01 06:34:56   10880   15272      39.0         5    69.25\n",
       "2016-01-01 06:34:56   10880   15272       3.0         2    52.27"
      ]
     },
     "execution_count": 4,
     "metadata": {},
     "output_type": "execute_result"
    }
   ],
   "source": [
    "print(orders.shape)\n",
    "orders.head()"
   ]
  },
  {
   "cell_type": "code",
   "execution_count": 5,
   "metadata": {},
   "outputs": [
    {
     "data": {
      "image/png": "[encoded data removed]",
      "text/plain": [
       "<Figure size 432x288 with 1 Axes>"
      ]
     },
     "metadata": {
      "needs_background": "light"
     },
     "output_type": "display_data"
    }
   ],
   "source": [
    "# time-series of orders per month\n",
    "tmpdf = orders.groupby(pd.Grouper(freq='M'))['ordno'].count().plot()\n",
    "plt.show()"
   ]
  },
  {
   "cell_type": "code",
   "execution_count": 6,
   "metadata": {},
   "outputs": [
    {
     "data": {
      "text/plain": [
       "custno      0.000000\n",
       "ordno       0.000000\n",
       "prodcat2    0.006924\n",
       "prodcat1    0.000000\n",
       "revenue     0.000000\n",
       "dtype: float64"
      ]
     },
     "execution_count": 6,
     "metadata": {},
     "output_type": "execute_result"
    }
   ],
   "source": [
    "# frequency of missing data\n",
    "orders.isna().mean()"
   ]
  },
  {
   "cell_type": "code",
   "execution_count": 7,
   "metadata": {},
   "outputs": [
    {
     "data": {
      "text/plain": [
       "custno       70264\n",
       "ordno       149717\n",
       "prodcat2       251\n",
       "prodcat1         6\n",
       "revenue      15001\n",
       "dtype: int64"
      ]
     },
     "execution_count": 7,
     "metadata": {},
     "output_type": "execute_result"
    }
   ],
   "source": [
    "# cardinality of features\n",
    "orders.nunique()"
   ]
  },
  {
   "cell_type": "code",
   "execution_count": 8,
   "metadata": {},
   "outputs": [
    {
     "data": {
      "text/plain": [
       "2    88684\n",
       "1    48672\n",
       "4    46681\n",
       "3    44019\n",
       "7    24042\n",
       "5    11180\n",
       "Name: prodcat1, dtype: int64"
      ]
     },
     "execution_count": 8,
     "metadata": {},
     "output_type": "execute_result"
    }
   ],
   "source": [
    "# distribution of labels\n",
    "orders['prodcat1'].value_counts()"
   ]
  },
  {
   "cell_type": "code",
   "execution_count": 9,
   "metadata": {},
   "outputs": [
    {
     "data": {
      "text/html": [
       "<div>\n",
       "<style scoped>\n",
       "    .dataframe tbody tr th:only-of-type {\n",
       "        vertical-align: middle;\n",
       "    }\n",
       "\n",
       "    .dataframe tbody tr th {\n",
       "        vertical-align: top;\n",
       "    }\n",
       "\n",
       "    .dataframe thead th {\n",
       "        text-align: right;\n",
       "    }\n",
       "</style>\n",
       "<table border=\"1\" class=\"dataframe\">\n",
       "  <thead>\n",
       "    <tr style=\"text-align: right;\">\n",
       "      <th></th>\n",
       "      <th>count</th>\n",
       "      <th>mean</th>\n",
       "      <th>std</th>\n",
       "      <th>min</th>\n",
       "      <th>25%</th>\n",
       "      <th>50%</th>\n",
       "      <th>75%</th>\n",
       "      <th>max</th>\n",
       "    </tr>\n",
       "    <tr>\n",
       "      <th>prodcat1</th>\n",
       "      <th></th>\n",
       "      <th></th>\n",
       "      <th></th>\n",
       "      <th></th>\n",
       "      <th></th>\n",
       "      <th></th>\n",
       "      <th></th>\n",
       "      <th></th>\n",
       "    </tr>\n",
       "  </thead>\n",
       "  <tbody>\n",
       "    <tr>\n",
       "      <th>1</th>\n",
       "      <td>48672.0</td>\n",
       "      <td>74.880807</td>\n",
       "      <td>43.219422</td>\n",
       "      <td>0.00</td>\n",
       "      <td>37.0700</td>\n",
       "      <td>75.120</td>\n",
       "      <td>112.00</td>\n",
       "      <td>150.0</td>\n",
       "    </tr>\n",
       "    <tr>\n",
       "      <th>2</th>\n",
       "      <td>88684.0</td>\n",
       "      <td>75.208527</td>\n",
       "      <td>43.299121</td>\n",
       "      <td>0.00</td>\n",
       "      <td>37.7600</td>\n",
       "      <td>75.255</td>\n",
       "      <td>112.62</td>\n",
       "      <td>150.0</td>\n",
       "    </tr>\n",
       "    <tr>\n",
       "      <th>3</th>\n",
       "      <td>44019.0</td>\n",
       "      <td>74.747437</td>\n",
       "      <td>43.192556</td>\n",
       "      <td>0.01</td>\n",
       "      <td>37.3400</td>\n",
       "      <td>74.610</td>\n",
       "      <td>112.00</td>\n",
       "      <td>150.0</td>\n",
       "    </tr>\n",
       "    <tr>\n",
       "      <th>4</th>\n",
       "      <td>46681.0</td>\n",
       "      <td>74.653734</td>\n",
       "      <td>43.349344</td>\n",
       "      <td>0.00</td>\n",
       "      <td>37.1400</td>\n",
       "      <td>74.550</td>\n",
       "      <td>112.11</td>\n",
       "      <td>150.0</td>\n",
       "    </tr>\n",
       "    <tr>\n",
       "      <th>5</th>\n",
       "      <td>11180.0</td>\n",
       "      <td>75.676608</td>\n",
       "      <td>43.065655</td>\n",
       "      <td>0.00</td>\n",
       "      <td>38.7975</td>\n",
       "      <td>75.685</td>\n",
       "      <td>112.90</td>\n",
       "      <td>150.0</td>\n",
       "    </tr>\n",
       "    <tr>\n",
       "      <th>7</th>\n",
       "      <td>24042.0</td>\n",
       "      <td>74.627529</td>\n",
       "      <td>43.420142</td>\n",
       "      <td>0.01</td>\n",
       "      <td>36.8425</td>\n",
       "      <td>74.180</td>\n",
       "      <td>112.22</td>\n",
       "      <td>150.0</td>\n",
       "    </tr>\n",
       "  </tbody>\n",
       "</table>\n",
       "</div>"
      ],
      "text/plain": [
       "            count       mean        std   min      25%     50%     75%    max\n",
       "prodcat1                                                                     \n",
       "1         48672.0  74.880807  43.219422  0.00  37.0700  75.120  112.00  150.0\n",
       "2         88684.0  75.208527  43.299121  0.00  37.7600  75.255  112.62  150.0\n",
       "3         44019.0  74.747437  43.192556  0.01  37.3400  74.610  112.00  150.0\n",
       "4         46681.0  74.653734  43.349344  0.00  37.1400  74.550  112.11  150.0\n",
       "5         11180.0  75.676608  43.065655  0.00  38.7975  75.685  112.90  150.0\n",
       "7         24042.0  74.627529  43.420142  0.01  36.8425  74.180  112.22  150.0"
      ]
     },
     "execution_count": 9,
     "metadata": {},
     "output_type": "execute_result"
    }
   ],
   "source": [
    "# distribution of labels and revenue per label\n",
    "orders.groupby('prodcat1')['revenue'].describe()"
   ]
  },
  {
   "cell_type": "code",
   "execution_count": 10,
   "metadata": {},
   "outputs": [
    {
     "data": {
      "text/plain": [
       "count    251.000000\n",
       "mean      74.760769\n",
       "std       13.791414\n",
       "min        1.970000\n",
       "25%       72.654076\n",
       "50%       75.058562\n",
       "75%       77.959206\n",
       "max      143.350000\n",
       "Name: revenue, dtype: float64"
      ]
     },
     "execution_count": 10,
     "metadata": {},
     "output_type": "execute_result"
    }
   ],
   "source": [
    "# mean revenue per sub-category\n",
    "orders.groupby('prodcat2')['revenue'].mean().describe()"
   ]
  },
  {
   "cell_type": "code",
   "execution_count": 11,
   "metadata": {},
   "outputs": [
    {
     "data": {
      "text/plain": [
       "count    70264.000000\n",
       "mean         3.746983\n",
       "std         11.387488\n",
       "min          1.000000\n",
       "25%          1.000000\n",
       "50%          2.000000\n",
       "75%          3.000000\n",
       "max        626.000000\n",
       "Name: prodcat1, dtype: float64"
      ]
     },
     "execution_count": 11,
     "metadata": {},
     "output_type": "execute_result"
    }
   ],
   "source": [
    "# number of orders per customer\n",
    "orders.groupby('custno')['prodcat1'].count().describe()"
   ]
  },
  {
   "cell_type": "code",
   "execution_count": 12,
   "metadata": {},
   "outputs": [
    {
     "data": {
      "text/plain": [
       "count    149717.000000\n",
       "mean          1.758504\n",
       "std           1.073511\n",
       "min           1.000000\n",
       "25%           1.000000\n",
       "50%           1.000000\n",
       "75%           2.000000\n",
       "max          26.000000\n",
       "Name: prodcat1, dtype: float64"
      ]
     },
     "execution_count": 12,
     "metadata": {},
     "output_type": "execute_result"
    }
   ],
   "source": [
    "# number of items per order\n",
    "orders.groupby('ordno')['prodcat1'].count().describe()"
   ]
  },
  {
   "cell_type": "markdown",
   "metadata": {},
   "source": [
    "**Notes**\n",
    "- Categorical label observations don't show strong class imbalance (1:8 between most common and least common)\n",
    "- Negligible missing data\n",
    "- Straightforward format; longitudinal customer orders over ~3 year period\n",
    "- Median # orders per customer = 2. Will likely need to predict cold-start customers; may be challenging to construct a representative test-set\n",
    "- Surprisingly, little variation in order revenue per category; all in interval [$\\$74.00, \\$76.00$]\n",
    "\n",
    "\n",
    "**Assumptions**\n",
    "- prodcat2 description (\"Product category -detail\") presumably sub-categories, as they have much higher cardinality than prodcat1. Could search for hierarchical category structure, but that isn't guaranteed for e-commerce catalogs."
   ]
  },
  {
   "cell_type": "markdown",
   "metadata": {},
   "source": [
    "### Session table EDA \n",
    "\n",
    "Similar structure to orders table; similar EDA process"
   ]
  },
  {
   "cell_type": "code",
   "execution_count": 13,
   "metadata": {},
   "outputs": [
    {
     "name": "stdout",
     "output_type": "stream",
     "text": [
      "(954774, 7)\n"
     ]
    },
    {
     "data": {
      "text/html": [
       "<div>\n",
       "<style scoped>\n",
       "    .dataframe tbody tr th:only-of-type {\n",
       "        vertical-align: middle;\n",
       "    }\n",
       "\n",
       "    .dataframe tbody tr th {\n",
       "        vertical-align: top;\n",
       "    }\n",
       "\n",
       "    .dataframe thead th {\n",
       "        text-align: right;\n",
       "    }\n",
       "</style>\n",
       "<table border=\"1\" class=\"dataframe\">\n",
       "  <thead>\n",
       "    <tr style=\"text-align: right;\">\n",
       "      <th></th>\n",
       "      <th>session</th>\n",
       "      <th>visitor</th>\n",
       "      <th>dt</th>\n",
       "      <th>custno</th>\n",
       "      <th>category</th>\n",
       "      <th>event1</th>\n",
       "      <th>event2</th>\n",
       "    </tr>\n",
       "  </thead>\n",
       "  <tbody>\n",
       "    <tr>\n",
       "      <th>0</th>\n",
       "      <td>419542</td>\n",
       "      <td>140970</td>\n",
       "      <td>2016-09-16 05:03:23</td>\n",
       "      <td>3840</td>\n",
       "      <td>1</td>\n",
       "      <td>NaN</td>\n",
       "      <td>1</td>\n",
       "    </tr>\n",
       "    <tr>\n",
       "      <th>1</th>\n",
       "      <td>3030130</td>\n",
       "      <td>14501</td>\n",
       "      <td>2017-11-13 04:58:12</td>\n",
       "      <td>70400</td>\n",
       "      <td>1</td>\n",
       "      <td>NaN</td>\n",
       "      <td>1</td>\n",
       "    </tr>\n",
       "    <tr>\n",
       "      <th>2</th>\n",
       "      <td>2638740</td>\n",
       "      <td>419353</td>\n",
       "      <td>2017-05-24 16:10:38</td>\n",
       "      <td>21248</td>\n",
       "      <td>1</td>\n",
       "      <td>NaN</td>\n",
       "      <td>1</td>\n",
       "    </tr>\n",
       "    <tr>\n",
       "      <th>3</th>\n",
       "      <td>880408</td>\n",
       "      <td>90673</td>\n",
       "      <td>2017-10-28 13:42:38</td>\n",
       "      <td>39168</td>\n",
       "      <td>1</td>\n",
       "      <td>NaN</td>\n",
       "      <td>1</td>\n",
       "    </tr>\n",
       "    <tr>\n",
       "      <th>4</th>\n",
       "      <td>2612179</td>\n",
       "      <td>191542</td>\n",
       "      <td>2016-05-17 06:30:32</td>\n",
       "      <td>47616</td>\n",
       "      <td>1</td>\n",
       "      <td>NaN</td>\n",
       "      <td>1</td>\n",
       "    </tr>\n",
       "  </tbody>\n",
       "</table>\n",
       "</div>"
      ],
      "text/plain": [
       "   session  visitor                  dt  custno  category  event1  event2\n",
       "0   419542   140970 2016-09-16 05:03:23    3840         1     NaN       1\n",
       "1  3030130    14501 2017-11-13 04:58:12   70400         1     NaN       1\n",
       "2  2638740   419353 2017-05-24 16:10:38   21248         1     NaN       1\n",
       "3   880408    90673 2017-10-28 13:42:38   39168         1     NaN       1\n",
       "4  2612179   191542 2016-05-17 06:30:32   47616         1     NaN       1"
      ]
     },
     "execution_count": 13,
     "metadata": {},
     "output_type": "execute_result"
    }
   ],
   "source": [
    "print(sessions.shape)\n",
    "sessions.head()"
   ]
  },
  {
   "cell_type": "code",
   "execution_count": 14,
   "metadata": {},
   "outputs": [
    {
     "data": {
      "image/png": "[encoded data removed]",
      "text/plain": [
       "<Figure size 432x288 with 1 Axes>"
      ]
     },
     "metadata": {
      "needs_background": "light"
     },
     "output_type": "display_data"
    }
   ],
   "source": [
    "# time-series of orders per month; spike around black friday / holiday season\n",
    "sessions.set_index('dt').groupby(pd.Grouper(freq='M'))['category'].count().plot()\n",
    "plt.show()"
   ]
  },
  {
   "cell_type": "code",
   "execution_count": 16,
   "metadata": {},
   "outputs": [
    {
     "data": {
      "text/plain": [
       "(Timestamp('2016-01-01 05:05:14'), Timestamp('2016-01-01 00:00:08'))"
      ]
     },
     "execution_count": 16,
     "metadata": {},
     "output_type": "execute_result"
    }
   ],
   "source": [
    "# sessions and orders start at the same time\n",
    "orders.index.min(), sessions['dt'].min()"
   ]
  },
  {
   "cell_type": "code",
   "execution_count": 17,
   "metadata": {},
   "outputs": [
    {
     "data": {
      "text/plain": [
       "(Timestamp('2019-01-02 23:54:58'), Timestamp('2017-12-31 23:58:05'))"
      ]
     },
     "execution_count": 17,
     "metadata": {},
     "output_type": "execute_result"
    }
   ],
   "source": [
    "# sessions data terminates before orders\n",
    "orders.index.max(), sessions['dt'].max()"
   ]
  },
  {
   "cell_type": "code",
   "execution_count": 18,
   "metadata": {},
   "outputs": [
    {
     "data": {
      "text/plain": [
       "session     0.00000\n",
       "visitor     0.00000\n",
       "dt          0.00000\n",
       "custno      0.00000\n",
       "category    0.00000\n",
       "event1      0.82726\n",
       "event2      0.00000\n",
       "dtype: float64"
      ]
     },
     "execution_count": 18,
     "metadata": {},
     "output_type": "execute_result"
    }
   ],
   "source": [
    "# event1 is largely NaN; no other columns with missing values\n",
    "sessions.isna().mean()"
   ]
  },
  {
   "cell_type": "code",
   "execution_count": 19,
   "metadata": {},
   "outputs": [
    {
     "data": {
      "text/plain": [
       "session     850235\n",
       "visitor     259950\n",
       "dt          942579\n",
       "custno       57584\n",
       "category         3\n",
       "event1          10\n",
       "event2          10\n",
       "dtype: int64"
      ]
     },
     "execution_count": 19,
     "metadata": {},
     "output_type": "execute_result"
    }
   ],
   "source": [
    "# cardinality of features\n",
    "sessions.nunique()"
   ]
  },
  {
   "cell_type": "code",
   "execution_count": 20,
   "metadata": {},
   "outputs": [
    {
     "data": {
      "text/plain": [
       "3    706920\n",
       "2    194890\n",
       "1     52964\n",
       "Name: category, dtype: int64"
      ]
     },
     "execution_count": 20,
     "metadata": {},
     "output_type": "execute_result"
    }
   ],
   "source": [
    "# distribution of session category views\n",
    "sessions['category'].value_counts()"
   ]
  },
  {
   "cell_type": "markdown",
   "metadata": {},
   "source": [
    "### NB Sessions category (described as equivalent to orders 'prodcat1' target) only contains labels $\\in \\{1, 2, 3\\}$"
   ]
  },
  {
   "cell_type": "code",
   "execution_count": 21,
   "metadata": {},
   "outputs": [
    {
     "name": "stdout",
     "output_type": "stream",
     "text": [
      "event 1 values\n",
      " [ 1  2  4  5  6  7  8  9 10 11]\n"
     ]
    }
   ],
   "source": [
    "print('event 1 values\\n', sessions['event1'].dropna().astype(int).unique())"
   ]
  },
  {
   "cell_type": "code",
   "execution_count": 22,
   "metadata": {},
   "outputs": [
    {
     "name": "stdout",
     "output_type": "stream",
     "text": [
      "event 2 values\n",
      " [ 1  2  3  4  5  6  7  8  9 10]\n"
     ]
    }
   ],
   "source": [
    "print('event 2 values\\n', sessions['event2'].dropna().astype(int).unique())"
   ]
  },
  {
   "cell_type": "code",
   "execution_count": 23,
   "metadata": {},
   "outputs": [
    {
     "data": {
      "text/plain": [
       "0.20290065968180054"
      ]
     },
     "execution_count": 23,
     "metadata": {},
     "output_type": "execute_result"
    }
   ],
   "source": [
    "# fraction of obsevations where event1 == event2\n",
    "tmpdf = sessions.dropna()\n",
    "(tmpdf['event1'] == tmpdf['event2']).mean()"
   ]
  },
  {
   "cell_type": "code",
   "execution_count": 24,
   "metadata": {},
   "outputs": [
    {
     "data": {
      "text/plain": [
       "count    57584.000000\n",
       "mean        16.580543\n",
       "std         25.271940\n",
       "min          1.000000\n",
       "25%          3.000000\n",
       "50%          8.000000\n",
       "75%         19.000000\n",
       "max        855.000000\n",
       "Name: dt, dtype: float64"
      ]
     },
     "execution_count": 24,
     "metadata": {},
     "output_type": "execute_result"
    }
   ],
   "source": [
    "# number of observations per customer\n",
    "sessions.groupby('custno')['dt'].count().describe()"
   ]
  },
  {
   "cell_type": "code",
   "execution_count": 25,
   "metadata": {},
   "outputs": [
    {
     "data": {
      "text/plain": [
       "count    259950.000000\n",
       "mean          3.672914\n",
       "std           7.173912\n",
       "min           1.000000\n",
       "25%           1.000000\n",
       "50%           2.000000\n",
       "75%           3.000000\n",
       "max         440.000000\n",
       "Name: dt, dtype: float64"
      ]
     },
     "execution_count": 25,
     "metadata": {},
     "output_type": "execute_result"
    }
   ],
   "source": [
    "# number of observations per visitor\n",
    "sessions.groupby('visitor')['dt'].count().describe()"
   ]
  },
  {
   "cell_type": "markdown",
   "metadata": {},
   "source": [
    "**Notes**\n",
    "- Session table doesn't contain information about orders from categories $\\in \\{4, 5, 7\\}$\n",
    "- event1 and event2 have similar values, but appear to represent different information (event2 is often NaN, and otherwise has different values than event1 ~80% of the time)\n",
    "- session information only lasts until end of 2017; orders table lasts until early 2019\n",
    "- *visitor* column has higher cardinality than *custno*, but less than *session* column. *session* column is unique in roughly 90% of observations. Do not yet understand the difference between visitor and session keys."
   ]
  },
  {
   "cell_type": "code",
   "execution_count": 28,
   "metadata": {},
   "outputs": [
    {
     "name": "stdout",
     "output_type": "stream",
     "text": [
      "order customers: 70264\n",
      "session customers: 57584\n",
      "customers in both: 56764\n"
     ]
    }
   ],
   "source": [
    "print(f\"order customers: {orders['custno'].unique().shape[0]}\") \n",
    "print(f\"session customers: {sessions['custno'].unique().shape[0]}\") \n",
    "print(f\"customers in both: {len(set(sessions['custno']) & set(orders['custno']))}\")"
   ]
  },
  {
   "cell_type": "markdown",
   "metadata": {},
   "source": [
    "#### Nearly all customers with session data have order data present. Many customers with orders have no session data "
   ]
  },
  {
   "cell_type": "markdown",
   "metadata": {},
   "source": [
    "#    2. Feature engineering\n",
    "\n",
    "#### 1. Matrix factorization on session data to obtain customer embeddings. These embeddings could be used for a downstream clustering task to segment customers, and will help to represent the majority of \"coldstart\" customers having no past purchases\n",
    "\n",
    "#### 2. Generate a single table containing \n",
    "- Features:\n",
    "    - Customer embeddings from session data\n",
    "    - Past purchases from each category\n",
    "    - Average past order value\n",
    "- Label: product category for a \"new\" order from the customer\n",
    "    - prodcat1\n",
    "    \n",
    "### NB I will reserve orders after May 2018 as a test set for roughly 80/20 split, eliminating risk of leakage from session data"
   ]
  },
  {
   "cell_type": "markdown",
   "metadata": {},
   "source": [
    "#### 1. Matrix factorization on session data\n",
    "#### Treat each session \"action\" as a unique interaction, defining action as (category, event1, event2)"
   ]
  },
  {
   "cell_type": "code",
   "execution_count": 29,
   "metadata": {},
   "outputs": [],
   "source": [
    "# encode single session \"item\" as concatentation of category, event1, & event2\n",
    "sessions['item'] = sessions['category'].astype(str).str.cat(\n",
    "    sessions['event1'].astype(str).str.cat(\n",
    "        sessions['event2'].astype(str),\n",
    "        sep='_'\n",
    "    ),\n",
    "    sep='_'\n",
    ")\n",
    "# encode customer/items as indices to construct sparse matrix\n",
    "item_map = {item: index for index, item in enumerate(sessions['item'].unique())}\n",
    "customer_map = {customer: index for index, customer in enumerate(sessions['custno'].unique())}\n",
    "\n",
    "sessions['item_ix'] = sessions['item'].map(item_map)\n",
    "sessions['cust_ix'] = sessions['custno'].map(customer_map)"
   ]
  },
  {
   "cell_type": "code",
   "execution_count": 35,
   "metadata": {},
   "outputs": [],
   "source": [
    "# build sparse matrix of customer/action interactions\n",
    "nitem = len(item_map)\n",
    "ncustomer = len(customer_map)\n",
    "\n",
    "observations = sessions.groupby(['cust_ix', 'item_ix'])['item'].count().reset_index()"
   ]
  },
  {
   "cell_type": "code",
   "execution_count": 47,
   "metadata": {},
   "outputs": [
    {
     "name": "stdout",
     "output_type": "stream",
     "text": [
      "observation sparsity = 0.026739862380072896\n"
     ]
    }
   ],
   "source": [
    "session_observations = sparse.coo_matrix(\n",
    "    (np.log10(observations['item']), (observations['cust_ix'], observations['item_ix'])),\n",
    "    shape=(ncustomer, nitem)\n",
    ")\n",
    "\n",
    "print('observation sparsity = '\n",
    "      f'{session_observations.getnnz() / np.prod(session_observations.shape)}')"
   ]
  },
  {
   "cell_type": "markdown",
   "metadata": {},
   "source": [
    "#### Sparsity is high, but not alarming for matrix factorization. More problematic is long-tailed distribution with most customers having few observations "
   ]
  },
  {
   "cell_type": "code",
   "execution_count": 48,
   "metadata": {},
   "outputs": [],
   "source": [
    "train_obs, test_obs = cross_validation.random_train_test_split(\n",
    "    session_observations, test_percentage=0.2)"
   ]
  },
  {
   "cell_type": "markdown",
   "metadata": {},
   "source": [
    "#### hand-tune epochs based on single held-out validation set"
   ]
  },
  {
   "cell_type": "code",
   "execution_count": 49,
   "metadata": {},
   "outputs": [],
   "source": [
    "session_mf = LightFM(\n",
    "    learning_rate = 0.01,\n",
    "    no_components = 12,\n",
    "    loss='bpr'\n",
    ")"
   ]
  },
  {
   "cell_type": "code",
   "execution_count": 50,
   "metadata": {},
   "outputs": [],
   "source": [
    "def score_mf(model, test_labels):\n",
    "    aucs = evaluation.auc_score(model, test_labels, num_threads=8)\n",
    "    return aucs.mean()"
   ]
  },
  {
   "cell_type": "code",
   "execution_count": 51,
   "metadata": {},
   "outputs": [],
   "source": [
    "epoch_steps = 2\n",
    "nepoch = 20\n",
    "scores = np.zeros(nepoch)\n",
    "\n",
    "for partial_epoch in range(nepoch):\n",
    "    session_fm = session_mf.fit_partial(\n",
    "        interactions=train_obs,\n",
    "        num_threads=8,\n",
    "        epochs=epoch_steps\n",
    "    )\n",
    "    scores[partial_epoch] = score_mf(session_fm, test_obs)"
   ]
  },
  {
   "cell_type": "code",
   "execution_count": 52,
   "metadata": {},
   "outputs": [
    {
     "name": "stdout",
     "output_type": "stream",
     "text": [
      "best model score: 0.806327760219574\n"
     ]
    },
    {
     "data": {
      "image/png": "[encoded data removed]",
      "text/plain": [
       "<Figure size 432x288 with 1 Axes>"
      ]
     },
     "metadata": {
      "needs_background": "light"
     },
     "output_type": "display_data"
    }
   ],
   "source": [
    "print(f\"best model score: {scores.max()}\")\n",
    "plt.plot(epoch_steps*np.arange(nepoch), scores)\n",
    "plt.show()"
   ]
  },
  {
   "cell_type": "markdown",
   "metadata": {},
   "source": [
    "#### re-train on all session observations"
   ]
  },
  {
   "cell_type": "code",
   "execution_count": 53,
   "metadata": {},
   "outputs": [],
   "source": [
    "best_ix = np.argmax(scores)\n",
    "nepochs = epoch_steps*np.arange(nepoch+1)[best_ix]\n",
    "\n",
    "session_mf = session_mf.fit(\n",
    "    interactions=session_observations,\n",
    "    num_threads=8,\n",
    "    epochs=nepochs\n",
    ")"
   ]
  },
  {
   "cell_type": "markdown",
   "metadata": {},
   "source": [
    "**Notes**\n",
    "\n",
    "- This model selection procedure has several weaknesses that can be resolved with more time\n",
    "    - Using a single validation set leads to biased evaluation metrics\n",
    "    - No tuning has been done on learning_rate, or L2 regularization penalty. Better cross-validation and hyperparameter tuning could improve customer embedding quality. For now, AUC=0.806 should provide meaningful customer embeddings for downstream task"
   ]
  },
  {
   "cell_type": "markdown",
   "metadata": {},
   "source": [
    "#### get customer-level embeddings "
   ]
  },
  {
   "cell_type": "code",
   "execution_count": 54,
   "metadata": {},
   "outputs": [
    {
     "data": {
      "text/html": [
       "<div>\n",
       "<style scoped>\n",
       "    .dataframe tbody tr th:only-of-type {\n",
       "        vertical-align: middle;\n",
       "    }\n",
       "\n",
       "    .dataframe tbody tr th {\n",
       "        vertical-align: top;\n",
       "    }\n",
       "\n",
       "    .dataframe thead th {\n",
       "        text-align: right;\n",
       "    }\n",
       "</style>\n",
       "<table border=\"1\" class=\"dataframe\">\n",
       "  <thead>\n",
       "    <tr style=\"text-align: right;\">\n",
       "      <th></th>\n",
       "      <th>custno</th>\n",
       "      <th>mf_0</th>\n",
       "      <th>mf_1</th>\n",
       "      <th>mf_2</th>\n",
       "      <th>mf_3</th>\n",
       "      <th>mf_4</th>\n",
       "      <th>mf_5</th>\n",
       "      <th>mf_6</th>\n",
       "      <th>mf_7</th>\n",
       "      <th>mf_8</th>\n",
       "      <th>mf_9</th>\n",
       "      <th>mf_10</th>\n",
       "      <th>mf_11</th>\n",
       "      <th>mf_12</th>\n",
       "    </tr>\n",
       "  </thead>\n",
       "  <tbody>\n",
       "    <tr>\n",
       "      <th>0</th>\n",
       "      <td>3840</td>\n",
       "      <td>-0.278115</td>\n",
       "      <td>-0.031060</td>\n",
       "      <td>-0.085459</td>\n",
       "      <td>0.096356</td>\n",
       "      <td>-0.033843</td>\n",
       "      <td>0.078167</td>\n",
       "      <td>-0.078196</td>\n",
       "      <td>-0.128470</td>\n",
       "      <td>-0.124178</td>\n",
       "      <td>0.064228</td>\n",
       "      <td>-0.013643</td>\n",
       "      <td>0.104495</td>\n",
       "      <td>0.068513</td>\n",
       "    </tr>\n",
       "    <tr>\n",
       "      <th>1</th>\n",
       "      <td>70400</td>\n",
       "      <td>-0.127953</td>\n",
       "      <td>-0.054647</td>\n",
       "      <td>0.008258</td>\n",
       "      <td>-0.012378</td>\n",
       "      <td>-0.031209</td>\n",
       "      <td>-0.012360</td>\n",
       "      <td>-0.048967</td>\n",
       "      <td>0.028010</td>\n",
       "      <td>-0.009035</td>\n",
       "      <td>0.035004</td>\n",
       "      <td>-0.026238</td>\n",
       "      <td>-0.055380</td>\n",
       "      <td>0.031518</td>\n",
       "    </tr>\n",
       "    <tr>\n",
       "      <th>2</th>\n",
       "      <td>21248</td>\n",
       "      <td>-0.017517</td>\n",
       "      <td>-0.009145</td>\n",
       "      <td>-0.047696</td>\n",
       "      <td>0.029160</td>\n",
       "      <td>0.006616</td>\n",
       "      <td>0.015962</td>\n",
       "      <td>-0.015539</td>\n",
       "      <td>-0.006532</td>\n",
       "      <td>0.007036</td>\n",
       "      <td>0.012536</td>\n",
       "      <td>0.001593</td>\n",
       "      <td>0.049647</td>\n",
       "      <td>0.015276</td>\n",
       "    </tr>\n",
       "    <tr>\n",
       "      <th>3</th>\n",
       "      <td>39168</td>\n",
       "      <td>-0.121958</td>\n",
       "      <td>-0.025755</td>\n",
       "      <td>-0.042915</td>\n",
       "      <td>0.026999</td>\n",
       "      <td>-0.014389</td>\n",
       "      <td>-0.023401</td>\n",
       "      <td>-0.029523</td>\n",
       "      <td>-0.011559</td>\n",
       "      <td>0.010613</td>\n",
       "      <td>0.053792</td>\n",
       "      <td>0.019077</td>\n",
       "      <td>-0.003238</td>\n",
       "      <td>-0.001660</td>\n",
       "    </tr>\n",
       "    <tr>\n",
       "      <th>4</th>\n",
       "      <td>47616</td>\n",
       "      <td>-0.269700</td>\n",
       "      <td>0.011937</td>\n",
       "      <td>-0.128861</td>\n",
       "      <td>0.105616</td>\n",
       "      <td>-0.072671</td>\n",
       "      <td>0.178442</td>\n",
       "      <td>-0.012852</td>\n",
       "      <td>-0.122685</td>\n",
       "      <td>-0.145778</td>\n",
       "      <td>0.072799</td>\n",
       "      <td>-0.069370</td>\n",
       "      <td>0.109572</td>\n",
       "      <td>0.130130</td>\n",
       "    </tr>\n",
       "  </tbody>\n",
       "</table>\n",
       "</div>"
      ],
      "text/plain": [
       "   custno      mf_0      mf_1      mf_2      mf_3      mf_4      mf_5  \\\n",
       "0    3840 -0.278115 -0.031060 -0.085459  0.096356 -0.033843  0.078167   \n",
       "1   70400 -0.127953 -0.054647  0.008258 -0.012378 -0.031209 -0.012360   \n",
       "2   21248 -0.017517 -0.009145 -0.047696  0.029160  0.006616  0.015962   \n",
       "3   39168 -0.121958 -0.025755 -0.042915  0.026999 -0.014389 -0.023401   \n",
       "4   47616 -0.269700  0.011937 -0.128861  0.105616 -0.072671  0.178442   \n",
       "\n",
       "       mf_6      mf_7      mf_8      mf_9     mf_10     mf_11     mf_12  \n",
       "0 -0.078196 -0.128470 -0.124178  0.064228 -0.013643  0.104495  0.068513  \n",
       "1 -0.048967  0.028010 -0.009035  0.035004 -0.026238 -0.055380  0.031518  \n",
       "2 -0.015539 -0.006532  0.007036  0.012536  0.001593  0.049647  0.015276  \n",
       "3 -0.029523 -0.011559  0.010613  0.053792  0.019077 -0.003238 -0.001660  \n",
       "4 -0.012852 -0.122685 -0.145778  0.072799 -0.069370  0.109572  0.130130  "
      ]
     },
     "execution_count": 54,
     "metadata": {},
     "output_type": "execute_result"
    }
   ],
   "source": [
    "customer_embeddings = session_mf.get_user_representations()\n",
    "\n",
    "# concatenate bias and embeddings\n",
    "customer_embeddings = np.hstack([customer_embeddings[0].reshape(-1,1), customer_embeddings[1]])\n",
    "\n",
    "customer_embeddings = pd.DataFrame(\n",
    "    data=customer_embeddings, \n",
    "    index=customer_map.keys(), \n",
    "    columns=[f'mf_{ix}' for ix in range(customer_embeddings.shape[1])]\n",
    ").reset_index()\n",
    "\n",
    "customer_embeddings = customer_embeddings.rename({'index': 'custno'}, axis=1)\n",
    "customer_embeddings.head()"
   ]
  },
  {
   "cell_type": "markdown",
   "metadata": {},
   "source": [
    "#### compute past order features "
   ]
  },
  {
   "cell_type": "code",
   "execution_count": 57,
   "metadata": {},
   "outputs": [],
   "source": [
    "# sort dataframe by index (assuming datetime index), and compute average column value with expanding windows\n",
    "# NB may be incorrect for orders of multiple items; should re-write using pandas datetime operations\n",
    "\n",
    "CUTOFF_DATE = pd.to_datetime('2018-05')\n",
    "\n",
    "def past_aggregate_features(df, categories=orders['prodcat1'].unique(), cutoff=CUTOFF_DATE):\n",
    "    \"\"\"Featurize all order observations, ignoring observations after CUTOFF_DATE to avoid leakage\"\"\"\n",
    "    df.sort_index()\n",
    "    df['avg_past_revenue'] = df.expanding()['revenue'].apply(\n",
    "        lambda xx: xx[xx.index < CUTOFF_DATE].mean()\n",
    "    )\n",
    "    \n",
    "    for category in categories:\n",
    "        df[f'purchases_{category}'] = df.expanding()['prodcat1'].apply(\n",
    "            lambda xx: (xx[xx.index < CUTOFF_DATE]==category).sum()\n",
    "        )\n",
    "\n",
    "    df = df.fillna(0)\n",
    "    return df"
   ]
  },
  {
   "cell_type": "code",
   "execution_count": 72,
   "metadata": {},
   "outputs": [],
   "source": [
    "features = orders.groupby('custno').apply(past_aggregate_features)"
   ]
  },
  {
   "cell_type": "markdown",
   "metadata": {},
   "source": [
    "#### compile final features/labels for category prediction task "
   ]
  },
  {
   "cell_type": "code",
   "execution_count": 73,
   "metadata": {},
   "outputs": [],
   "source": [
    "# concatenate with customer embeddings from session-data\n",
    "features = features.merge(customer_embeddings, on='custno', how='left').fillna(0)\n",
    "labels = features['prodcat1'].map({category: index for index, category in enumerate(features['prodcat1'].unique())})\n",
    "features = features.drop(orders.columns, axis=1)"
   ]
  },
  {
   "cell_type": "code",
   "execution_count": 74,
   "metadata": {},
   "outputs": [
    {
     "data": {
      "text/html": [
       "<div>\n",
       "<style scoped>\n",
       "    .dataframe tbody tr th:only-of-type {\n",
       "        vertical-align: middle;\n",
       "    }\n",
       "\n",
       "    .dataframe tbody tr th {\n",
       "        vertical-align: top;\n",
       "    }\n",
       "\n",
       "    .dataframe thead th {\n",
       "        text-align: right;\n",
       "    }\n",
       "</style>\n",
       "<table border=\"1\" class=\"dataframe\">\n",
       "  <thead>\n",
       "    <tr style=\"text-align: right;\">\n",
       "      <th></th>\n",
       "      <th>avg_past_revenue</th>\n",
       "      <th>purchases_5</th>\n",
       "      <th>purchases_2</th>\n",
       "      <th>purchases_3</th>\n",
       "      <th>purchases_4</th>\n",
       "      <th>purchases_1</th>\n",
       "      <th>purchases_7</th>\n",
       "      <th>mf_0</th>\n",
       "      <th>mf_1</th>\n",
       "      <th>mf_2</th>\n",
       "      <th>mf_3</th>\n",
       "      <th>mf_4</th>\n",
       "      <th>mf_5</th>\n",
       "      <th>mf_6</th>\n",
       "      <th>mf_7</th>\n",
       "      <th>mf_8</th>\n",
       "      <th>mf_9</th>\n",
       "      <th>mf_10</th>\n",
       "      <th>mf_11</th>\n",
       "      <th>mf_12</th>\n",
       "    </tr>\n",
       "  </thead>\n",
       "  <tbody>\n",
       "    <tr>\n",
       "      <th>0</th>\n",
       "      <td>139.770000</td>\n",
       "      <td>1.0</td>\n",
       "      <td>0.0</td>\n",
       "      <td>0.0</td>\n",
       "      <td>0.0</td>\n",
       "      <td>0.0</td>\n",
       "      <td>0.0</td>\n",
       "      <td>-0.124167</td>\n",
       "      <td>0.079439</td>\n",
       "      <td>-0.087336</td>\n",
       "      <td>0.033555</td>\n",
       "      <td>-0.019371</td>\n",
       "      <td>0.082448</td>\n",
       "      <td>0.022191</td>\n",
       "      <td>-0.050222</td>\n",
       "      <td>-0.121571</td>\n",
       "      <td>-0.023979</td>\n",
       "      <td>-0.036052</td>\n",
       "      <td>0.076814</td>\n",
       "      <td>0.043387</td>\n",
       "    </tr>\n",
       "    <tr>\n",
       "      <th>1</th>\n",
       "      <td>147.510000</td>\n",
       "      <td>0.0</td>\n",
       "      <td>1.0</td>\n",
       "      <td>0.0</td>\n",
       "      <td>0.0</td>\n",
       "      <td>0.0</td>\n",
       "      <td>0.0</td>\n",
       "      <td>-0.039121</td>\n",
       "      <td>0.038823</td>\n",
       "      <td>-0.004926</td>\n",
       "      <td>0.011986</td>\n",
       "      <td>-0.011600</td>\n",
       "      <td>0.035414</td>\n",
       "      <td>-0.014180</td>\n",
       "      <td>-0.038425</td>\n",
       "      <td>-0.008411</td>\n",
       "      <td>-0.048814</td>\n",
       "      <td>-0.003085</td>\n",
       "      <td>0.025505</td>\n",
       "      <td>-0.017249</td>\n",
       "    </tr>\n",
       "    <tr>\n",
       "      <th>2</th>\n",
       "      <td>87.605000</td>\n",
       "      <td>0.0</td>\n",
       "      <td>1.0</td>\n",
       "      <td>1.0</td>\n",
       "      <td>0.0</td>\n",
       "      <td>0.0</td>\n",
       "      <td>0.0</td>\n",
       "      <td>-0.039121</td>\n",
       "      <td>0.038823</td>\n",
       "      <td>-0.004926</td>\n",
       "      <td>0.011986</td>\n",
       "      <td>-0.011600</td>\n",
       "      <td>0.035414</td>\n",
       "      <td>-0.014180</td>\n",
       "      <td>-0.038425</td>\n",
       "      <td>-0.008411</td>\n",
       "      <td>-0.048814</td>\n",
       "      <td>-0.003085</td>\n",
       "      <td>0.025505</td>\n",
       "      <td>-0.017249</td>\n",
       "    </tr>\n",
       "    <tr>\n",
       "      <th>3</th>\n",
       "      <td>81.486667</td>\n",
       "      <td>1.0</td>\n",
       "      <td>1.0</td>\n",
       "      <td>1.0</td>\n",
       "      <td>0.0</td>\n",
       "      <td>0.0</td>\n",
       "      <td>0.0</td>\n",
       "      <td>-0.039121</td>\n",
       "      <td>0.038823</td>\n",
       "      <td>-0.004926</td>\n",
       "      <td>0.011986</td>\n",
       "      <td>-0.011600</td>\n",
       "      <td>0.035414</td>\n",
       "      <td>-0.014180</td>\n",
       "      <td>-0.038425</td>\n",
       "      <td>-0.008411</td>\n",
       "      <td>-0.048814</td>\n",
       "      <td>-0.003085</td>\n",
       "      <td>0.025505</td>\n",
       "      <td>-0.017249</td>\n",
       "    </tr>\n",
       "    <tr>\n",
       "      <th>4</th>\n",
       "      <td>74.182500</td>\n",
       "      <td>1.0</td>\n",
       "      <td>2.0</td>\n",
       "      <td>1.0</td>\n",
       "      <td>0.0</td>\n",
       "      <td>0.0</td>\n",
       "      <td>0.0</td>\n",
       "      <td>-0.039121</td>\n",
       "      <td>0.038823</td>\n",
       "      <td>-0.004926</td>\n",
       "      <td>0.011986</td>\n",
       "      <td>-0.011600</td>\n",
       "      <td>0.035414</td>\n",
       "      <td>-0.014180</td>\n",
       "      <td>-0.038425</td>\n",
       "      <td>-0.008411</td>\n",
       "      <td>-0.048814</td>\n",
       "      <td>-0.003085</td>\n",
       "      <td>0.025505</td>\n",
       "      <td>-0.017249</td>\n",
       "    </tr>\n",
       "  </tbody>\n",
       "</table>\n",
       "</div>"
      ],
      "text/plain": [
       "   avg_past_revenue  purchases_5  purchases_2  purchases_3  purchases_4  \\\n",
       "0        139.770000          1.0          0.0          0.0          0.0   \n",
       "1        147.510000          0.0          1.0          0.0          0.0   \n",
       "2         87.605000          0.0          1.0          1.0          0.0   \n",
       "3         81.486667          1.0          1.0          1.0          0.0   \n",
       "4         74.182500          1.0          2.0          1.0          0.0   \n",
       "\n",
       "   purchases_1  purchases_7      mf_0      mf_1      mf_2      mf_3      mf_4  \\\n",
       "0          0.0          0.0 -0.124167  0.079439 -0.087336  0.033555 -0.019371   \n",
       "1          0.0          0.0 -0.039121  0.038823 -0.004926  0.011986 -0.011600   \n",
       "2          0.0          0.0 -0.039121  0.038823 -0.004926  0.011986 -0.011600   \n",
       "3          0.0          0.0 -0.039121  0.038823 -0.004926  0.011986 -0.011600   \n",
       "4          0.0          0.0 -0.039121  0.038823 -0.004926  0.011986 -0.011600   \n",
       "\n",
       "       mf_5      mf_6      mf_7      mf_8      mf_9     mf_10     mf_11  \\\n",
       "0  0.082448  0.022191 -0.050222 -0.121571 -0.023979 -0.036052  0.076814   \n",
       "1  0.035414 -0.014180 -0.038425 -0.008411 -0.048814 -0.003085  0.025505   \n",
       "2  0.035414 -0.014180 -0.038425 -0.008411 -0.048814 -0.003085  0.025505   \n",
       "3  0.035414 -0.014180 -0.038425 -0.008411 -0.048814 -0.003085  0.025505   \n",
       "4  0.035414 -0.014180 -0.038425 -0.008411 -0.048814 -0.003085  0.025505   \n",
       "\n",
       "      mf_12  \n",
       "0  0.043387  \n",
       "1 -0.017249  \n",
       "2 -0.017249  \n",
       "3 -0.017249  \n",
       "4 -0.017249  "
      ]
     },
     "execution_count": 74,
     "metadata": {},
     "output_type": "execute_result"
    }
   ],
   "source": [
    "features.head()"
   ]
  },
  {
   "cell_type": "code",
   "execution_count": 75,
   "metadata": {},
   "outputs": [
    {
     "name": "stdout",
     "output_type": "stream",
     "text": [
      "20 train features\n",
      "207456 train observations\n",
      "55822 test observations\n"
     ]
    }
   ],
   "source": [
    "train_ix, test_ix = (orders.index < pd.to_datetime(CUTOFF_DATE)), (orders.index >= pd.to_datetime(CUTOFF_DATE))\n",
    "train_features, test_features = features[train_ix], features[test_ix]\n",
    "train_labels, test_labels = labels[train_ix], labels[test_ix]\n",
    "\n",
    "print(f\"{train_features.shape[1]} train features\")\n",
    "print(f\"{train_features.shape[0]} train observations\")\n",
    "print(f\"{test_features.shape[0]} test observations\")"
   ]
  },
  {
   "cell_type": "markdown",
   "metadata": {},
   "source": [
    "#### With only 20 features, and without the need to reduce features for interpretability, I will not perform any explicit feature selection."
   ]
  },
  {
   "cell_type": "markdown",
   "metadata": {},
   "source": [
    "#    Model design and sampling"
   ]
  },
  {
   "cell_type": "code",
   "execution_count": 94,
   "metadata": {},
   "outputs": [],
   "source": [
    "# tune parameters controlling bagging model bias\n",
    "params = {\n",
    "    'min_samples_split': stats.randint(2, 24),\n",
    "    'min_samples_leaf': stats.randint(2, 8),\n",
    "    'class_weight': ['balanced', None],\n",
    "    'max_samples': stats.uniform(loc=.6, scale=.4),\n",
    "    'max_depth': stats.randint(4, 16),\n",
    "    'max_features': stats.uniform(loc=.5, scale=0.5)\n",
    "}\n",
    "\n",
    "# diminishing returns with more estimators; keep fixed\n",
    "estimator = RandomForestClassifier(\n",
    "    n_estimators=128,\n",
    "    n_jobs=-1,\n",
    ")\n",
    "\n",
    "# cross-validate on training set to tune hyperparameters\n",
    "cv = RandomizedSearchCV(\n",
    "    estimator=estimator,\n",
    "    param_distributions=params,\n",
    "    scoring='f1_macro',\n",
    "    cv=3,\n",
    "    n_iter=50,\n",
    "    n_jobs=-1,\n",
    "    refit=True,\n",
    "    verbose=3\n",
    ")"
   ]
  },
  {
   "cell_type": "code",
   "execution_count": 95,
   "metadata": {},
   "outputs": [
    {
     "name": "stdout",
     "output_type": "stream",
     "text": [
      "Fitting 3 folds for each of 50 candidates, totalling 150 fits\n"
     ]
    },
    {
     "name": "stderr",
     "output_type": "stream",
     "text": [
      "[Parallel(n_jobs=-1)]: Using backend LokyBackend with 8 concurrent workers.\n",
      "[Parallel(n_jobs=-1)]: Done  16 tasks      | elapsed:  3.7min\n",
      "[Parallel(n_jobs=-1)]: Done 112 tasks      | elapsed: 20.9min\n",
      "[Parallel(n_jobs=-1)]: Done 150 out of 150 | elapsed: 27.6min finished\n"
     ]
    },
    {
     "name": "stdout",
     "output_type": "stream",
     "text": [
      "best score: 0.6538819161274331\n",
      "best params: {'class_weight': None, 'max_depth': 11, 'max_features': 0.9735936837998398, 'max_samples': 0.8584920021531988, 'min_samples_leaf': 7, 'min_samples_split': 15}\n"
     ]
    }
   ],
   "source": [
    "cv = cv.fit(train_features, train_labels)\n",
    "\n",
    "print(f'best score: {cv.best_score_}')\n",
    "print(f'best params: {cv.best_params_}')"
   ]
  },
  {
   "cell_type": "markdown",
   "metadata": {},
   "source": [
    "#    Model evaluation"
   ]
  },
  {
   "cell_type": "code",
   "execution_count": 96,
   "metadata": {},
   "outputs": [
    {
     "name": "stdout",
     "output_type": "stream",
     "text": [
      "F1-score using majority-class predictor: 0.07954044309869017\n",
      "F1-score on test set (weighted by label frequency): 0.28433123892252143\n"
     ]
    }
   ],
   "source": [
    "# baseline model evaluation\n",
    "y_pred = np.ones(test_labels.shape)\n",
    "baseline_score = f1_score(y_true=test_labels, y_pred=y_pred, average='macro')\n",
    "print(f'F1-score using majority-class predictor: {baseline_score}')\n",
    "\n",
    "# Test set evaluation\n",
    "y_pred = cv.predict(test_features)\n",
    "score = f1_score(y_true=test_labels, y_pred=y_pred, average='weighted')\n",
    "print(f'F1-score on test set (weighted by label frequency): {score}')"
   ]
  },
  {
   "cell_type": "code",
   "execution_count": 97,
   "metadata": {},
   "outputs": [
    {
     "data": {
      "text/plain": [
       "<matplotlib.image.AxesImage at 0x7f0fa25dbcd0>"
      ]
     },
     "execution_count": 97,
     "metadata": {},
     "output_type": "execute_result"
    },
    {
     "data": {
      "image/png": "[encoded data removed]",
      "text/plain": [
       "<Figure size 432x288 with 1 Axes>"
      ]
     },
     "metadata": {
      "needs_background": "light"
     },
     "output_type": "display_data"
    }
   ],
   "source": [
    "# Confusion matrix\n",
    "confusion = confusion_matrix(y_true=test_labels, y_pred=y_pred)\n",
    "plt.imshow(confusion)"
   ]
  },
  {
   "cell_type": "code",
   "execution_count": 98,
   "metadata": {},
   "outputs": [
    {
     "data": {
      "text/plain": [
       "0    0.042465\n",
       "1    0.336845\n",
       "2    0.167196\n",
       "3    0.177307\n",
       "4    0.184869\n",
       "5    0.091318\n",
       "Name: prodcat1, dtype: float64"
      ]
     },
     "execution_count": 98,
     "metadata": {},
     "output_type": "execute_result"
    }
   ],
   "source": [
    "# true label distribution\n",
    "(labels.value_counts()/labels.shape[0]).sort_index()"
   ]
  },
  {
   "cell_type": "code",
   "execution_count": 100,
   "metadata": {},
   "outputs": [
    {
     "data": {
      "text/plain": [
       "0    0.469456\n",
       "1    0.199348\n",
       "2    0.133567\n",
       "3    0.076959\n",
       "4    0.100158\n",
       "5    0.020512\n",
       "dtype: float64"
      ]
     },
     "execution_count": 100,
     "metadata": {},
     "output_type": "execute_result"
    }
   ],
   "source": [
    "# predicted label distribution\n",
    "(pd.Series(y_pred).value_counts()/y_pred.shape[0]).sort_index()"
   ]
  },
  {
   "cell_type": "markdown",
   "metadata": {},
   "source": [
    "#### Oddly, the model predicts label $0$ most often, while it is the least common label. "
   ]
  },
  {
   "cell_type": "markdown",
   "metadata": {},
   "source": [
    "#    Summary of results\n",
    "\n",
    "## Results\n",
    "I have evaluated the session and order datasets identifying key properties including the lack of product categories ${4, 5, 7}$ in the session data, and the sparsity of order data with the majority of customers having only a single order.\n",
    "\n",
    "I was able to take advantage of the session data in isolation to learn customer representations based on their session behavior. This wisdom-of-the-crowd approach allows us to having meaningful features for customers, even without past purchase history.\n",
    "\n",
    "In addition, I constructed interpretable features, focusing on properties of customers' past purchases. Together with customer session representations, I trained a random forest classifier, chosen for its performance on multi-class classification tasks, training speed, and relative simplicity of hyperparameters. Model selection was done with cross-validation optimizing weighted f1-score, since there is no need to weight false positive or false negatives differently, but class imbalance should be accounted for.\n",
    "\n",
    "Inference with random forests is parallelizable, and session-based representations can be computed periodically in batch, so model deployment should be straightforward for most use cases.\n",
    "\n",
    "## Limitations\n",
    "Predictive performance is better than a straw-man model exclusively predicting the majority class. But performance is limited, and the predictions are heavily biased toward the least common label. Additionally, the performance on the test set is much lower than the validation performance, indicating the validation splits are not representative of the test set. More thorough evaluation with a business goal in mind is needed before deployment to customer-facing systems. \n",
    "\n",
    "\n",
    "The constructed features and the model design are preliminary, and more time spent in EDA, feature engineering, and model selection is sure to improve performance. Specifically, *prodcat2* was not used in featurization, but sub-category information may resolve differences between customers with similar purchase history. Reproducibility of the notebook is also limited, as this notebook is for demonstration purposes only; I have not take effort to modularize, fix random seeds, or implement unit tests."
   ]
  },
  {
   "cell_type": "code",
   "execution_count": null,
   "metadata": {},
   "outputs": [],
   "source": []
  }
 ],
 "metadata": {
  "kernelspec": {
   "display_name": "Python 3",
   "language": "python",
   "name": "python3"
  },
  "language_info": {
   "codemirror_mode": {
    "name": "ipython",
    "version": 3
   },
   "file_extension": ".py",
   "mimetype": "text/x-python",
   "name": "python",
   "nbconvert_exporter": "python",
   "pygments_lexer": "ipython3",
   "version": "3.8.3"
  }
 },
 "nbformat": 4,
 "nbformat_minor": 4
}
